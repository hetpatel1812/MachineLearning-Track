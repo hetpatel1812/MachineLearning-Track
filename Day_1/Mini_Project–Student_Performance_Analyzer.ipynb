{
  "nbformat": 4,
  "nbformat_minor": 0,
  "metadata": {
    "colab": {
      "provenance": [],
      "authorship_tag": "ABX9TyO+Pz8AtDRy7h/fJbOWdts5",
      "include_colab_link": true
    },
    "kernelspec": {
      "name": "python3",
      "display_name": "Python 3"
    },
    "language_info": {
      "name": "python"
    }
  },
  "cells": [
    {
      "cell_type": "markdown",
      "metadata": {
        "id": "view-in-github",
        "colab_type": "text"
      },
      "source": [
        "<a href=\"https://colab.research.google.com/github/hetpatel1812/Ml-Task/blob/main/Day_1/Mini_Project%E2%80%93Student_Performance_Analyzer.ipynb\" target=\"_parent\"><img src=\"https://colab.research.google.com/assets/colab-badge.svg\" alt=\"Open In Colab\"/></a>"
      ]
    },
    {
      "cell_type": "markdown",
      "source": [],
      "metadata": {
        "id": "u9uWrl9aG372"
      }
    },
    {
      "cell_type": "markdown",
      "source": [
        "# **Mini Project–Student Performance Analyzer**"
      ],
      "metadata": {
        "id": "d_9gM4LxG5eL"
      }
    },
    {
      "cell_type": "code",
      "source": [
        "import numpy as np\n",
        "import pandas as pd\n",
        "import matplotlib.pyplot as plt"
      ],
      "metadata": {
        "id": "MpianLH0HCHg"
      },
      "execution_count": 1,
      "outputs": []
    },
    {
      "cell_type": "code",
      "source": [
        "names = ['Alice', 'Bob', 'Charlie', 'David', 'Eva', 'Frank', 'Grace', 'Helen', 'Ian', 'Jane']"
      ],
      "metadata": {
        "id": "Buq042-sHTyW"
      },
      "execution_count": 2,
      "outputs": []
    },
    {
      "cell_type": "code",
      "source": [
        "np.random.seed(0)  # for reproducibility\n",
        "\n",
        "math = np.random.randint(60, 100, size=10)\n",
        "science = np.random.randint(60, 100, size=10)\n",
        "english = np.random.randint(60, 100, size=10)\n",
        "attendance = np.random.randint(50, 100, size=10)"
      ],
      "metadata": {
        "id": "pTU38sdkHg0K"
      },
      "execution_count": 3,
      "outputs": []
    },
    {
      "cell_type": "code",
      "source": [
        "df = pd.DataFrame({\n",
        "    'Name': names,\n",
        "    'Math': math,\n",
        "    'Science': science,\n",
        "    'English': english,\n",
        "    'Attendance (%)': attendance\n",
        "    })"
      ],
      "metadata": {
        "id": "yL23VlbXHjR0"
      },
      "execution_count": 5,
      "outputs": []
    },
    {
      "cell_type": "code",
      "source": [
        "df['Total'] = df[['Math', 'Science', 'English']].sum(axis=1)"
      ],
      "metadata": {
        "id": "cRchcCTkHonz"
      },
      "execution_count": 6,
      "outputs": []
    },
    {
      "cell_type": "code",
      "source": [
        "print(\"📊 Subject-wise Stats:\")\n",
        "print(df[['Math', 'Science', 'English']].agg(['mean', 'max', 'min']))"
      ],
      "metadata": {
        "colab": {
          "base_uri": "https://localhost:8080/"
        },
        "id": "T0fc-OJ2IEyB",
        "outputId": "c0a3d6c8-97cc-48a4-9565-8ffdbd0789d2"
      },
      "execution_count": 7,
      "outputs": [
        {
          "output_type": "stream",
          "name": "stdout",
          "text": [
            "📊 Subject-wise Stats:\n",
            "      Math  Science  English\n",
            "mean  75.9     83.9     72.9\n",
            "max   99.0     99.0     85.0\n",
            "min   60.0     61.0     60.0\n"
          ]
        }
      ]
    },
    {
      "cell_type": "code",
      "source": [
        "print(\"\\n🎯 Overall Class Average Total Marks:\", df['Total'].mean())"
      ],
      "metadata": {
        "colab": {
          "base_uri": "https://localhost:8080/"
        },
        "id": "LJnhpHkyIH-I",
        "outputId": "be9a9918-4950-49ef-dea1-89f7915c5aae"
      },
      "execution_count": 8,
      "outputs": [
        {
          "output_type": "stream",
          "name": "stdout",
          "text": [
            "\n",
            "🎯 Overall Class Average Total Marks: 232.7\n"
          ]
        }
      ]
    },
    {
      "cell_type": "code",
      "source": [
        "low_attendance = df[df['Attendance (%)'] < 75]\n",
        "print(\"\\n🚨 Students with Attendance < 75%:\")\n",
        "print(low_attendance[['Name', 'Attendance (%)']])"
      ],
      "metadata": {
        "colab": {
          "base_uri": "https://localhost:8080/"
        },
        "id": "zcLf9nTmIO7I",
        "outputId": "d6b28e17-41c9-4365-a44f-dbab1434e9b1"
      },
      "execution_count": 9,
      "outputs": [
        {
          "output_type": "stream",
          "name": "stdout",
          "text": [
            "\n",
            "🚨 Students with Attendance < 75%:\n",
            "    Name  Attendance (%)\n",
            "1    Bob              74\n",
            "4    Eva              69\n",
            "5  Frank              69\n",
            "6  Grace              64\n",
            "9   Jane              51\n"
          ]
        }
      ]
    },
    {
      "cell_type": "code",
      "source": [
        "top_students = df.sort_values(by='Total', ascending=False).head(3)\n",
        "print(\"\\n🏆 Top 3 Students:\")\n",
        "print(top_students[['Name', 'Total']])"
      ],
      "metadata": {
        "colab": {
          "base_uri": "https://localhost:8080/"
        },
        "id": "kEm6kJoPIWEa",
        "outputId": "830a236d-260d-48d9-beb6-51e6b31fbe48"
      },
      "execution_count": 10,
      "outputs": [
        {
          "output_type": "stream",
          "name": "stdout",
          "text": [
            "\n",
            "🏆 Top 3 Students:\n",
            "    Name  Total\n",
            "7  Helen    255\n",
            "5  Frank    254\n",
            "4    Eva    247\n"
          ]
        }
      ]
    },
    {
      "cell_type": "code",
      "source": [
        "plt.figure(figsize=(10, 6))\n",
        "plt.bar(df['Name'], df['Total'], color='skyblue')\n",
        "plt.title(\"Total Marks per Student\")\n",
        "plt.xlabel(\"Student Name\")\n",
        "plt.ylabel(\"Total Marks\")\n",
        "plt.xticks(rotation=45)\n",
        "plt.tight_layout()\n",
        "plt.show()\n"
      ],
      "metadata": {
        "colab": {
          "base_uri": "https://localhost:8080/",
          "height": 607
        },
        "id": "1cZ1z5zMIbZE",
        "outputId": "0f690667-a5f5-4024-a7b2-8fe69d0277c1"
      },
      "execution_count": 11,
      "outputs": [
        {
          "output_type": "display_data",
          "data": {
            "text/plain": [
              "<Figure size 1000x600 with 1 Axes>"
            ],
            "image/png": "[encoded data removed]"
          },
          "metadata": {}
        }
      ]
    }
  ]
}