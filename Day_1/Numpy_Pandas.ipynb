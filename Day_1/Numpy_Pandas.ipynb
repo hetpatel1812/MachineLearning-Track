{
  "nbformat": 4,
  "nbformat_minor": 0,
  "metadata": {
    "colab": {
      "provenance": [],
      "collapsed_sections": [
        "hyiDdsqP2u2B"
      ]
    },
    "kernelspec": {
      "name": "python3",
      "display_name": "Python 3"
    },
    "language_info": {
      "name": "python"
    }
  },
  "cells": [
    {
      "cell_type": "markdown",
      "source": [
        "# **Numpy**\n",
        "\n"
      ],
      "metadata": {
        "id": "hyiDdsqP2u2B"
      }
    },
    {
      "cell_type": "code",
      "execution_count": null,
      "metadata": {
        "id": "AyswQK8jt51Q"
      },
      "outputs": [],
      "source": [
        "import numpy as np"
      ]
    },
    {
      "cell_type": "code",
      "source": [
        "np.arange(1,11)"
      ],
      "metadata": {
        "colab": {
          "base_uri": "https://localhost:8080/"
        },
        "id": "Fj4Mfvd8uhMm",
        "outputId": "1e7ea054-49b8-4977-d0d6-80530d6787ab"
      },
      "execution_count": null,
      "outputs": [
        {
          "output_type": "execute_result",
          "data": {
            "text/plain": [
              "array([ 1,  2,  3,  4,  5,  6,  7,  8,  9, 10])"
            ]
          },
          "metadata": {},
          "execution_count": 6
        }
      ]
    },
    {
      "cell_type": "code",
      "source": [
        "random_array = np.random.randint(10, 101, size=(3, 4))\n",
        "\n",
        "print(random_array)"
      ],
      "metadata": {
        "colab": {
          "base_uri": "https://localhost:8080/"
        },
        "id": "RqQXPWZ3u_t1",
        "outputId": "2616e4ac-5225-47a9-d749-6387a33cc87c"
      },
      "execution_count": null,
      "outputs": [
        {
          "output_type": "stream",
          "name": "stdout",
          "text": [
            "[[ 69  63  67  27]\n",
            " [ 10  52  40  59]\n",
            " [ 76  40  43 100]]\n"
          ]
        }
      ]
    },
    {
      "cell_type": "code",
      "source": [
        "arr_2d = np.array([[1, 2, 3],\n",
        "                   [4, 5, 6],\n",
        "                   [7, 8, 9]])\n",
        "print(arr_2d)\n",
        "first_row = arr_2d[0, :]\n",
        "print(\"First row:\", first_row)"
      ],
      "metadata": {
        "colab": {
          "base_uri": "https://localhost:8080/"
        },
        "id": "ufjlKanGvrG4",
        "outputId": "3f0248cd-f61b-4dfc-955b-3bff8a2d7257"
      },
      "execution_count": null,
      "outputs": [
        {
          "output_type": "stream",
          "name": "stdout",
          "text": [
            "[[1 2 3]\n",
            " [4 5 6]\n",
            " [7 8 9]]\n",
            "First row: [1 2 3]\n"
          ]
        }
      ]
    },
    {
      "cell_type": "code",
      "source": [
        "import numpy as np\n",
        "\n",
        "# Example 2D array\n",
        "arr_2d = np.array([[1, 2, 3],\n",
        "                   [4, 5, 6],\n",
        "                   [7, 8, 9]])\n",
        "\n",
        "last_column = arr_2d[:, -1]\n",
        "\n",
        "print(\"Last column:\", last_column)"
      ],
      "metadata": {
        "colab": {
          "base_uri": "https://localhost:8080/"
        },
        "id": "LoO7EhTVxcA3",
        "outputId": "99b3186b-1093-4f5a-bd58-cbbbc30c2fff"
      },
      "execution_count": null,
      "outputs": [
        {
          "output_type": "stream",
          "name": "stdout",
          "text": [
            "Last column: [3 6 9]\n"
          ]
        }
      ]
    },
    {
      "cell_type": "code",
      "source": [
        "a=np.array([[1,6,3],[7,3,9]])\n",
        "b=np.array([[1,2,3],[4,5,6]])\n",
        "sum=a+b\n",
        "print(f\"sum of two array {sum}\")"
      ],
      "metadata": {
        "colab": {
          "base_uri": "https://localhost:8080/"
        },
        "id": "Z46RaCY_ybEX",
        "outputId": "2b569130-7a6d-49fb-e878-61d437955cfd"
      },
      "execution_count": null,
      "outputs": [
        {
          "output_type": "stream",
          "name": "stdout",
          "text": [
            "sum of two array [[ 2  8  6]\n",
            " [11  8 15]]\n"
          ]
        }
      ]
    },
    {
      "cell_type": "code",
      "source": [
        "a=np.array([[6,3],[3,9]])\n",
        "b=np.array([[1,3],[4,5,]])\n",
        "dot=np.dot(a,b)\n",
        "print(f\"dot product of two array {dot}\")"
      ],
      "metadata": {
        "colab": {
          "base_uri": "https://localhost:8080/"
        },
        "id": "bnA-nVYszYla",
        "outputId": "0c425652-8d71-4ecc-ccaa-11046309ad30"
      },
      "execution_count": null,
      "outputs": [
        {
          "output_type": "stream",
          "name": "stdout",
          "text": [
            "dot product of two array [[18 33]\n",
            " [39 54]]\n"
          ]
        }
      ]
    },
    {
      "cell_type": "code",
      "source": [
        "a=np.array([[1,6,3],[7,3,9]])\n",
        "transpose= a.T\n",
        "print(f\"Tanaspose Of a is {transpose}\")"
      ],
      "metadata": {
        "colab": {
          "base_uri": "https://localhost:8080/"
        },
        "id": "F-Wh1HeV0Ubi",
        "outputId": "a59db2ae-2074-4430-8cde-ca60833afd1e"
      },
      "execution_count": null,
      "outputs": [
        {
          "output_type": "stream",
          "name": "stdout",
          "text": [
            "Tanaspose Of a is [[1 7]\n",
            " [6 3]\n",
            " [3 9]]\n"
          ]
        }
      ]
    },
    {
      "cell_type": "markdown",
      "source": [
        "# [**Pandas**](https://)"
      ],
      "metadata": {
        "id": "JQCoauyy2_GW"
      }
    },
    {
      "cell_type": "code",
      "source": [
        "import pandas as pd"
      ],
      "metadata": {
        "id": "oKsUeDeF3hVs"
      },
      "execution_count": null,
      "outputs": []
    },
    {
      "cell_type": "code",
      "source": [
        "data = {\n",
        "    'Name': ['Alice', 'Bob', 'Charlie', 'David', 'Eva'],\n",
        "    'Math': [87, 92, 78, 90, 85],\n",
        "    'Science': [88, 75, 91, 89, 92],\n",
        "    'English': [84, 79, 86, 90, 88]\n",
        "}\n",
        "\n",
        "df = pd.DataFrame(data)\n",
        "print(df)\n"
      ],
      "metadata": {
        "colab": {
          "base_uri": "https://localhost:8080/"
        },
        "id": "AKROxLE935K7",
        "outputId": "c962c757-130c-4e92-9a6f-cb933bfa89e1"
      },
      "execution_count": null,
      "outputs": [
        {
          "output_type": "stream",
          "name": "stdout",
          "text": [
            "      Name  Math  Science  English\n",
            "0    Alice    87       88       84\n",
            "1      Bob    92       75       79\n",
            "2  Charlie    78       91       86\n",
            "3    David    90       89       90\n",
            "4      Eva    85       92       88\n"
          ]
        }
      ]
    },
    {
      "cell_type": "code",
      "source": [
        "Above_85=df[df['Math']>85]\n",
        "print(Above_85)\n"
      ],
      "metadata": {
        "colab": {
          "base_uri": "https://localhost:8080/"
        },
        "id": "V3M_sVpY3_G6",
        "outputId": "7fa440da-1722-44bf-a1c7-4a49a8e6263d"
      },
      "execution_count": null,
      "outputs": [
        {
          "output_type": "stream",
          "name": "stdout",
          "text": [
            "    Name  Math  Science  English\n",
            "0  Alice    87       88       84\n",
            "1    Bob    92       75       79\n",
            "3  David    90       89       90\n"
          ]
        }
      ]
    },
    {
      "cell_type": "code",
      "source": [
        "df[\"Avrage\"]=df[\"Math\"] + df[\"Science\"] + df[\"English\"]\n",
        "df[\"Avrage\"]=df[\"Avrage\"]/3\n",
        "print(df)"
      ],
      "metadata": {
        "colab": {
          "base_uri": "https://localhost:8080/"
        },
        "id": "WchWYSjb5TOB",
        "outputId": "aba96b14-033e-4925-f272-d6f7bcd98cb3"
      },
      "execution_count": null,
      "outputs": [
        {
          "output_type": "stream",
          "name": "stdout",
          "text": [
            "      Name  Math  Science  English     Avrage\n",
            "0    Alice    87       88       84  86.333333\n",
            "1      Bob    92       75       79  82.000000\n",
            "2  Charlie    78       91       86  85.000000\n",
            "3    David    90       89       90  89.666667\n",
            "4      Eva    85       92       88  88.333333\n"
          ]
        }
      ]
    },
    {
      "cell_type": "code",
      "source": [
        "df[\"Total\"]=df[\"Math\"] + df[\"Science\"] + df[\"English\"]\n",
        "print(df)"
      ],
      "metadata": {
        "colab": {
          "base_uri": "https://localhost:8080/"
        },
        "id": "6ej5r2608Cxm",
        "outputId": "cb0c16cf-f2b7-45e1-a896-be66a34b7da0"
      },
      "execution_count": null,
      "outputs": [
        {
          "output_type": "stream",
          "name": "stdout",
          "text": [
            "      Name  Math  Science  English     Avrage  Total\n",
            "0    Alice    87       88       84  86.333333    259\n",
            "1      Bob    92       75       79  82.000000    246\n",
            "2  Charlie    78       91       86  85.000000    255\n",
            "3    David    90       89       90  89.666667    269\n",
            "4      Eva    85       92       88  88.333333    265\n"
          ]
        }
      ]
    },
    {
      "cell_type": "code",
      "source": [
        "Sorted_values=df.sort_values(by=\"Total\",ascending=False)\n",
        "print(df)\n"
      ],
      "metadata": {
        "colab": {
          "base_uri": "https://localhost:8080/"
        },
        "id": "lSi0mKpH_Rm5",
        "outputId": "c8f9992c-84d5-46da-caa1-ea86d046e0c0"
      },
      "execution_count": null,
      "outputs": [
        {
          "output_type": "stream",
          "name": "stdout",
          "text": [
            "      Name  Math  Science  English     Avrage  Total\n",
            "0    Alice    87       88       84  86.333333    259\n",
            "1      Bob    92       75       79  82.000000    246\n",
            "2  Charlie    78       91       86  85.000000    255\n",
            "3    David    90       89       90  89.666667    269\n",
            "4      Eva    85       92       88  88.333333    265\n"
          ]
        }
      ]
    },
    {
      "cell_type": "code",
      "source": [
        "Sorted_values=df.sort_values(by=\"Total\",ascending=True)\n",
        "print(df)\n"
      ],
      "metadata": {
        "colab": {
          "base_uri": "https://localhost:8080/"
        },
        "id": "lO2PaaLiABNX",
        "outputId": "d5728328-c378-497a-9ab2-eb82973dedcd"
      },
      "execution_count": null,
      "outputs": [
        {
          "output_type": "stream",
          "name": "stdout",
          "text": [
            "      Name  Math  Science  English     Avrage  Total\n",
            "0    Alice    87       88       84  86.333333    259\n",
            "1      Bob    92       75       79  82.000000    246\n",
            "2  Charlie    78       91       86  85.000000    255\n",
            "3    David    90       89       90  89.666667    269\n",
            "4      Eva    85       92       88  88.333333    265\n"
          ]
        }
      ]
    }
  ]
}